{
 "cells": [
  {
   "cell_type": "code",
   "execution_count": null,
   "id": "ae543495",
   "metadata": {},
   "outputs": [],
   "source": [
    "##pull cryptocurrencies prices from a public API and download them as Excel files,\n",
    "## import two libraries first: requests (to pull data from the web) and pandas to process it."
   ]
  },
  {
   "cell_type": "code",
   "execution_count": 2,
   "id": "a3432f7f",
   "metadata": {},
   "outputs": [],
   "source": [
    "import requests\n",
    "import pandas as pd\n"
   ]
  },
  {
   "cell_type": "code",
   "execution_count": 3,
   "id": "79006f7e",
   "metadata": {},
   "outputs": [],
   "source": [
    "def get_historic_price(symbol, exchange='bitfinex', after='2018-09-01'):\n",
    "    url = 'https://api.cryptowat.ch/markets/{exchange}/{symbol}usd/ohlc'.format(\n",
    "        symbol=symbol, exchange=exchange)\n",
    "    resp = requests.get(url, params={\n",
    "        'periods': '3600',\n",
    "        'after': str(int(pd.Timestamp(after).timestamp()))\n",
    "    })\n",
    "    resp.raise_for_status()\n",
    "    data = resp.json()\n",
    "    df = pd.DataFrame(data['result']['3600'], columns=[\n",
    "        'CloseTime', 'OpenPrice', 'HighPrice', 'LowPrice', 'ClosePrice', 'Volume', 'NA'\n",
    "    ])\n",
    "    df['CloseTime'] = pd.to_datetime(df['CloseTime'], unit='s')\n",
    "    df.set_index('CloseTime', inplace=True)\n",
    "    return df"
   ]
  },
  {
   "cell_type": "code",
   "execution_count": null,
   "id": "2b897b88",
   "metadata": {},
   "outputs": [],
   "source": [
    "## pull data from Bitcoin for the last 7 days"
   ]
  },
  {
   "cell_type": "code",
   "execution_count": 6,
   "id": "6193dd77",
   "metadata": {},
   "outputs": [
    {
     "data": {
      "text/plain": [
       "Timestamp('2021-07-16 09:42:32.621435')"
      ]
     },
     "execution_count": 6,
     "metadata": {},
     "output_type": "execute_result"
    }
   ],
   "source": [
    "last_week = (pd.Timestamp.now() -  pd.offsets.Day(7))\n",
    "last_week"
   ]
  },
  {
   "cell_type": "code",
   "execution_count": 7,
   "id": "5852f513",
   "metadata": {},
   "outputs": [],
   "source": [
    "btc =  get_historic_price('btc', 'bitstamp', after=last_week)"
   ]
  },
  {
   "cell_type": "code",
   "execution_count": 8,
   "id": "7907ca29",
   "metadata": {},
   "outputs": [
    {
     "data": {
      "text/html": [
       "<div>\n",
       "<style scoped>\n",
       "    .dataframe tbody tr th:only-of-type {\n",
       "        vertical-align: middle;\n",
       "    }\n",
       "\n",
       "    .dataframe tbody tr th {\n",
       "        vertical-align: top;\n",
       "    }\n",
       "\n",
       "    .dataframe thead th {\n",
       "        text-align: right;\n",
       "    }\n",
       "</style>\n",
       "<table border=\"1\" class=\"dataframe\">\n",
       "  <thead>\n",
       "    <tr style=\"text-align: right;\">\n",
       "      <th></th>\n",
       "      <th>OpenPrice</th>\n",
       "      <th>HighPrice</th>\n",
       "      <th>LowPrice</th>\n",
       "      <th>ClosePrice</th>\n",
       "      <th>Volume</th>\n",
       "      <th>NA</th>\n",
       "    </tr>\n",
       "    <tr>\n",
       "      <th>CloseTime</th>\n",
       "      <th></th>\n",
       "      <th></th>\n",
       "      <th></th>\n",
       "      <th></th>\n",
       "      <th></th>\n",
       "      <th></th>\n",
       "    </tr>\n",
       "  </thead>\n",
       "  <tbody>\n",
       "    <tr>\n",
       "      <th>2021-07-16 10:00:00</th>\n",
       "      <td>31444.13</td>\n",
       "      <td>31528.65</td>\n",
       "      <td>31330.00</td>\n",
       "      <td>31415.02</td>\n",
       "      <td>48.617021</td>\n",
       "      <td>1.526923e+06</td>\n",
       "    </tr>\n",
       "    <tr>\n",
       "      <th>2021-07-16 11:00:00</th>\n",
       "      <td>31382.91</td>\n",
       "      <td>31461.23</td>\n",
       "      <td>31150.00</td>\n",
       "      <td>31324.98</td>\n",
       "      <td>141.525371</td>\n",
       "      <td>4.431123e+06</td>\n",
       "    </tr>\n",
       "    <tr>\n",
       "      <th>2021-07-16 12:00:00</th>\n",
       "      <td>31311.93</td>\n",
       "      <td>31311.93</td>\n",
       "      <td>31012.93</td>\n",
       "      <td>31088.15</td>\n",
       "      <td>123.098029</td>\n",
       "      <td>3.837395e+06</td>\n",
       "    </tr>\n",
       "    <tr>\n",
       "      <th>2021-07-16 13:00:00</th>\n",
       "      <td>31079.04</td>\n",
       "      <td>31786.27</td>\n",
       "      <td>31079.04</td>\n",
       "      <td>31701.69</td>\n",
       "      <td>169.173385</td>\n",
       "      <td>5.307785e+06</td>\n",
       "    </tr>\n",
       "    <tr>\n",
       "      <th>2021-07-16 14:00:00</th>\n",
       "      <td>31734.83</td>\n",
       "      <td>31977.45</td>\n",
       "      <td>31712.44</td>\n",
       "      <td>31771.78</td>\n",
       "      <td>134.933419</td>\n",
       "      <td>4.295794e+06</td>\n",
       "    </tr>\n",
       "  </tbody>\n",
       "</table>\n",
       "</div>"
      ],
      "text/plain": [
       "                     OpenPrice  HighPrice  LowPrice  ClosePrice      Volume  \\\n",
       "CloseTime                                                                     \n",
       "2021-07-16 10:00:00   31444.13   31528.65  31330.00    31415.02   48.617021   \n",
       "2021-07-16 11:00:00   31382.91   31461.23  31150.00    31324.98  141.525371   \n",
       "2021-07-16 12:00:00   31311.93   31311.93  31012.93    31088.15  123.098029   \n",
       "2021-07-16 13:00:00   31079.04   31786.27  31079.04    31701.69  169.173385   \n",
       "2021-07-16 14:00:00   31734.83   31977.45  31712.44    31771.78  134.933419   \n",
       "\n",
       "                               NA  \n",
       "CloseTime                          \n",
       "2021-07-16 10:00:00  1.526923e+06  \n",
       "2021-07-16 11:00:00  4.431123e+06  \n",
       "2021-07-16 12:00:00  3.837395e+06  \n",
       "2021-07-16 13:00:00  5.307785e+06  \n",
       "2021-07-16 14:00:00  4.295794e+06  "
      ]
     },
     "execution_count": 8,
     "metadata": {},
     "output_type": "execute_result"
    }
   ],
   "source": [
    "btc.head()"
   ]
  },
  {
   "cell_type": "code",
   "execution_count": 9,
   "id": "01df85e6",
   "metadata": {},
   "outputs": [],
   "source": [
    "eth = get_historic_price('eth', 'bitstamp', after=last_week)\n"
   ]
  },
  {
   "cell_type": "code",
   "execution_count": 10,
   "id": "1382feb0",
   "metadata": {},
   "outputs": [
    {
     "data": {
      "text/html": [
       "<div>\n",
       "<style scoped>\n",
       "    .dataframe tbody tr th:only-of-type {\n",
       "        vertical-align: middle;\n",
       "    }\n",
       "\n",
       "    .dataframe tbody tr th {\n",
       "        vertical-align: top;\n",
       "    }\n",
       "\n",
       "    .dataframe thead th {\n",
       "        text-align: right;\n",
       "    }\n",
       "</style>\n",
       "<table border=\"1\" class=\"dataframe\">\n",
       "  <thead>\n",
       "    <tr style=\"text-align: right;\">\n",
       "      <th></th>\n",
       "      <th>OpenPrice</th>\n",
       "      <th>HighPrice</th>\n",
       "      <th>LowPrice</th>\n",
       "      <th>ClosePrice</th>\n",
       "      <th>Volume</th>\n",
       "      <th>NA</th>\n",
       "    </tr>\n",
       "    <tr>\n",
       "      <th>CloseTime</th>\n",
       "      <th></th>\n",
       "      <th></th>\n",
       "      <th></th>\n",
       "      <th></th>\n",
       "      <th></th>\n",
       "      <th></th>\n",
       "    </tr>\n",
       "  </thead>\n",
       "  <tbody>\n",
       "    <tr>\n",
       "      <th>2021-07-16 10:00:00</th>\n",
       "      <td>1871.74</td>\n",
       "      <td>1878.97</td>\n",
       "      <td>1861.39</td>\n",
       "      <td>1871.37</td>\n",
       "      <td>832.502950</td>\n",
       "      <td>1.557688e+06</td>\n",
       "    </tr>\n",
       "    <tr>\n",
       "      <th>2021-07-16 11:00:00</th>\n",
       "      <td>1868.54</td>\n",
       "      <td>1874.45</td>\n",
       "      <td>1848.13</td>\n",
       "      <td>1863.97</td>\n",
       "      <td>1325.615406</td>\n",
       "      <td>2.464645e+06</td>\n",
       "    </tr>\n",
       "    <tr>\n",
       "      <th>2021-07-16 12:00:00</th>\n",
       "      <td>1864.45</td>\n",
       "      <td>1869.73</td>\n",
       "      <td>1851.27</td>\n",
       "      <td>1851.27</td>\n",
       "      <td>683.519113</td>\n",
       "      <td>1.270976e+06</td>\n",
       "    </tr>\n",
       "    <tr>\n",
       "      <th>2021-07-16 13:00:00</th>\n",
       "      <td>1851.02</td>\n",
       "      <td>1894.84</td>\n",
       "      <td>1849.31</td>\n",
       "      <td>1890.69</td>\n",
       "      <td>768.978106</td>\n",
       "      <td>1.440425e+06</td>\n",
       "    </tr>\n",
       "    <tr>\n",
       "      <th>2021-07-16 14:00:00</th>\n",
       "      <td>1890.38</td>\n",
       "      <td>1916.64</td>\n",
       "      <td>1890.38</td>\n",
       "      <td>1898.11</td>\n",
       "      <td>860.845712</td>\n",
       "      <td>1.637274e+06</td>\n",
       "    </tr>\n",
       "  </tbody>\n",
       "</table>\n",
       "</div>"
      ],
      "text/plain": [
       "                     OpenPrice  HighPrice  LowPrice  ClosePrice       Volume  \\\n",
       "CloseTime                                                                      \n",
       "2021-07-16 10:00:00    1871.74    1878.97   1861.39     1871.37   832.502950   \n",
       "2021-07-16 11:00:00    1868.54    1874.45   1848.13     1863.97  1325.615406   \n",
       "2021-07-16 12:00:00    1864.45    1869.73   1851.27     1851.27   683.519113   \n",
       "2021-07-16 13:00:00    1851.02    1894.84   1849.31     1890.69   768.978106   \n",
       "2021-07-16 14:00:00    1890.38    1916.64   1890.38     1898.11   860.845712   \n",
       "\n",
       "                               NA  \n",
       "CloseTime                          \n",
       "2021-07-16 10:00:00  1.557688e+06  \n",
       "2021-07-16 11:00:00  2.464645e+06  \n",
       "2021-07-16 12:00:00  1.270976e+06  \n",
       "2021-07-16 13:00:00  1.440425e+06  \n",
       "2021-07-16 14:00:00  1.637274e+06  "
      ]
     },
     "execution_count": 10,
     "metadata": {},
     "output_type": "execute_result"
    }
   ],
   "source": [
    "eth.head()"
   ]
  },
  {
   "cell_type": "code",
   "execution_count": 11,
   "id": "ba63f5b9",
   "metadata": {},
   "outputs": [
    {
     "data": {
      "text/plain": [
       "<AxesSubplot:xlabel='CloseTime'>"
      ]
     },
     "execution_count": 11,
     "metadata": {},
     "output_type": "execute_result"
    },
    {
     "data": {
      "image/png": "[encoded data removed]",
      "text/plain": [
       "<Figure size 720x432 with 1 Axes>"
      ]
     },
     "metadata": {
      "needs_background": "light"
     },
     "output_type": "display_data"
    }
   ],
   "source": [
    "btc['ClosePrice'].plot(figsize=(10,6))"
   ]
  },
  {
   "cell_type": "code",
   "execution_count": 14,
   "id": "7ce003f1",
   "metadata": {},
   "outputs": [
    {
     "data": {
      "text/plain": [
       "<AxesSubplot:xlabel='CloseTime'>"
      ]
     },
     "execution_count": 14,
     "metadata": {},
     "output_type": "execute_result"
    },
    {
     "data": {
      "image/png": "[encoded data removed]",
      "text/plain": [
       "<Figure size 720x432 with 1 Axes>"
      ]
     },
     "metadata": {
      "needs_background": "light"
     },
     "output_type": "display_data"
    }
   ],
   "source": [
    "eth['ClosePrice'].plot(figsize=(10,6))"
   ]
  },
  {
   "cell_type": "markdown",
   "id": "c75d38bc",
   "metadata": {},
   "source": [
    "### Using Bokeh as dynamic plots\n",
    "it is interactive plot that you can manipulate within the browser"
   ]
  },
  {
   "cell_type": "code",
   "execution_count": 19,
   "id": "1459bcee",
   "metadata": {},
   "outputs": [],
   "source": [
    "from bokeh.plotting import figure, output_file, show\n",
    "from bokeh.io import output_notebook"
   ]
  },
  {
   "cell_type": "code",
   "execution_count": 20,
   "id": "7ad27284",
   "metadata": {},
   "outputs": [
    {
     "data": {
      "text/html": [
       "\n",
       "    <div class=\"bk-root\">\n",
       "        <a href=\"https://bokeh.org\" target=\"_blank\" class=\"bk-logo bk-logo-small bk-logo-notebook\"></a>\n",
       "        <span id=\"1002\">Loading BokehJS ...</span>\n",
       "    </div>"
      ]
     },
     "metadata": {},
     "output_type": "display_data"
    },
    {
     "data": {
      "application/javascript": [
       "\n",
       "(function(root) {\n",
       "  function now() {\n",
       "    return new Date();\n",
       "  }\n",
       "\n",
       "  var force = true;\n",
       "\n",
       "  if (typeof root._bokeh_onload_callbacks === \"undefined\" || force === true) {\n",
       "    root._bokeh_onload_callbacks = [];\n",
       "    root._bokeh_is_loading = undefined;\n",
       "  }\n",
       "\n",
       "  var JS_MIME_TYPE = 'application/javascript';\n",
       "  var HTML_MIME_TYPE = 'text/html';\n",
       "  var EXEC_MIME_TYPE = 'application/vnd.bokehjs_exec.v0+json';\n",
       "  var CLASS_NAME = 'output_bokeh rendered_html';\n",
       "\n",
       "  /**\n",
       "   * Render data to the DOM node\n",
       "   */\n",
       "  function render(props, node) {\n",
       "    var script = document.createElement(\"script\");\n",
       "    node.appendChild(script);\n",
       "  }\n",
       "\n",
       "  /**\n",
       "   * Handle when an output is cleared or removed\n",
       "   */\n",
       "  function handleClearOutput(event, handle) {\n",
       "    var cell = handle.cell;\n",
       "\n",
       "    var id = cell.output_area._bokeh_element_id;\n",
       "    var server_id = cell.output_area._bokeh_server_id;\n",
       "    // Clean up Bokeh references\n",
       "    if (id != null && id in Bokeh.index) {\n",
       "      Bokeh.index[id].model.document.clear();\n",
       "      delete Bokeh.index[id];\n",
       "    }\n",
       "\n",
       "    if (server_id !== undefined) {\n",
       "      // Clean up Bokeh references\n",
       "      var cmd = \"from bokeh.io.state import curstate; print(curstate().uuid_to_server['\" + server_id + \"'].get_sessions()[0].document.roots[0]._id)\";\n",
       "      cell.notebook.kernel.execute(cmd, {\n",
       "        iopub: {\n",
       "          output: function(msg) {\n",
       "            var id = msg.content.text.trim();\n",
       "            if (id in Bokeh.index) {\n",
       "              Bokeh.index[id].model.document.clear();\n",
       "              delete Bokeh.index[id];\n",
       "            }\n",
       "          }\n",
       "        }\n",
       "      });\n",
       "      // Destroy server and session\n",
       "      var cmd = \"import bokeh.io.notebook as ion; ion.destroy_server('\" + server_id + \"')\";\n",
       "      cell.notebook.kernel.execute(cmd);\n",
       "    }\n",
       "  }\n",
       "\n",
       "  /**\n",
       "   * Handle when a new output is added\n",
       "   */\n",
       "  function handleAddOutput(event, handle) {\n",
       "    var output_area = handle.output_area;\n",
       "    var output = handle.output;\n",
       "\n",
       "    // limit handleAddOutput to display_data with EXEC_MIME_TYPE content only\n",
       "    if ((output.output_type != \"display_data\") || (!Object.prototype.hasOwnProperty.call(output.data, EXEC_MIME_TYPE))) {\n",
       "      return\n",
       "    }\n",
       "\n",
       "    var toinsert = output_area.element.find(\".\" + CLASS_NAME.split(' ')[0]);\n",
       "\n",
       "    if (output.metadata[EXEC_MIME_TYPE][\"id\"] !== undefined) {\n",
       "      toinsert[toinsert.length - 1].firstChild.textContent = output.data[JS_MIME_TYPE];\n",
       "      // store reference to embed id on output_area\n",
       "      output_area._bokeh_element_id = output.metadata[EXEC_MIME_TYPE][\"id\"];\n",
       "    }\n",
       "    if (output.metadata[EXEC_MIME_TYPE][\"server_id\"] !== undefined) {\n",
       "      var bk_div = document.createElement(\"div\");\n",
       "      bk_div.innerHTML = output.data[HTML_MIME_TYPE];\n",
       "      var script_attrs = bk_div.children[0].attributes;\n",
       "      for (var i = 0; i < script_attrs.length; i++) {\n",
       "        toinsert[toinsert.length - 1].firstChild.setAttribute(script_attrs[i].name, script_attrs[i].value);\n",
       "        toinsert[toinsert.length - 1].firstChild.textContent = bk_div.children[0].textContent\n",
       "      }\n",
       "      // store reference to server id on output_area\n",
       "      output_area._bokeh_server_id = output.metadata[EXEC_MIME_TYPE][\"server_id\"];\n",
       "    }\n",
       "  }\n",
       "\n",
       "  function register_renderer(events, OutputArea) {\n",
       "\n",
       "    function append_mime(data, metadata, element) {\n",
       "      // create a DOM node to render to\n",
       "      var toinsert = this.create_output_subarea(\n",
       "        metadata,\n",
       "        CLASS_NAME,\n",
       "        EXEC_MIME_TYPE\n",
       "      );\n",
       "      this.keyboard_manager.register_events(toinsert);\n",
       "      // Render to node\n",
       "      var props = {data: data, metadata: metadata[EXEC_MIME_TYPE]};\n",
       "      render(props, toinsert[toinsert.length - 1]);\n",
       "      element.append(toinsert);\n",
       "      return toinsert\n",
       "    }\n",
       "\n",
       "    /* Handle when an output is cleared or removed */\n",
       "    events.on('clear_output.CodeCell', handleClearOutput);\n",
       "    events.on('delete.Cell', handleClearOutput);\n",
       "\n",
       "    /* Handle when a new output is added */\n",
       "    events.on('output_added.OutputArea', handleAddOutput);\n",
       "\n",
       "    /**\n",
       "     * Register the mime type and append_mime function with output_area\n",
       "     */\n",
       "    OutputArea.prototype.register_mime_type(EXEC_MIME_TYPE, append_mime, {\n",
       "      /* Is output safe? */\n",
       "      safe: true,\n",
       "      /* Index of renderer in `output_area.display_order` */\n",
       "      index: 0\n",
       "    });\n",
       "  }\n",
       "\n",
       "  // register the mime type if in Jupyter Notebook environment and previously unregistered\n",
       "  if (root.Jupyter !== undefined) {\n",
       "    var events = require('base/js/events');\n",
       "    var OutputArea = require('notebook/js/outputarea').OutputArea;\n",
       "\n",
       "    if (OutputArea.prototype.mime_types().indexOf(EXEC_MIME_TYPE) == -1) {\n",
       "      register_renderer(events, OutputArea);\n",
       "    }\n",
       "  }\n",
       "\n",
       "  \n",
       "  if (typeof (root._bokeh_timeout) === \"undefined\" || force === true) {\n",
       "    root._bokeh_timeout = Date.now() + 5000;\n",
       "    root._bokeh_failed_load = false;\n",
       "  }\n",
       "\n",
       "  var NB_LOAD_WARNING = {'data': {'text/html':\n",
       "     \"<div style='background-color: #fdd'>\\n\"+\n",
       "     \"<p>\\n\"+\n",
       "     \"BokehJS does not appear to have successfully loaded. If loading BokehJS from CDN, this \\n\"+\n",
       "     \"may be due to a slow or bad network connection. Possible fixes:\\n\"+\n",
       "     \"</p>\\n\"+\n",
       "     \"<ul>\\n\"+\n",
       "     \"<li>re-rerun `output_notebook()` to attempt to load from CDN again, or</li>\\n\"+\n",
       "     \"<li>use INLINE resources instead, as so:</li>\\n\"+\n",
       "     \"</ul>\\n\"+\n",
       "     \"<code>\\n\"+\n",
       "     \"from bokeh.resources import INLINE\\n\"+\n",
       "     \"output_notebook(resources=INLINE)\\n\"+\n",
       "     \"</code>\\n\"+\n",
       "     \"</div>\"}};\n",
       "\n",
       "  function display_loaded() {\n",
       "    var el = document.getElementById(\"1002\");\n",
       "    if (el != null) {\n",
       "      el.textContent = \"BokehJS is loading...\";\n",
       "    }\n",
       "    if (root.Bokeh !== undefined) {\n",
       "      if (el != null) {\n",
       "        el.textContent = \"BokehJS \" + root.Bokeh.version + \" successfully loaded.\";\n",
       "      }\n",
       "    } else if (Date.now() < root._bokeh_timeout) {\n",
       "      setTimeout(display_loaded, 100)\n",
       "    }\n",
       "  }\n",
       "\n",
       "\n",
       "  function run_callbacks() {\n",
       "    try {\n",
       "      root._bokeh_onload_callbacks.forEach(function(callback) {\n",
       "        if (callback != null)\n",
       "          callback();\n",
       "      });\n",
       "    } finally {\n",
       "      delete root._bokeh_onload_callbacks\n",
       "    }\n",
       "    console.debug(\"Bokeh: all callbacks have finished\");\n",
       "  }\n",
       "\n",
       "  function load_libs(css_urls, js_urls, callback) {\n",
       "    if (css_urls == null) css_urls = [];\n",
       "    if (js_urls == null) js_urls = [];\n",
       "\n",
       "    root._bokeh_onload_callbacks.push(callback);\n",
       "    if (root._bokeh_is_loading > 0) {\n",
       "      console.debug(\"Bokeh: BokehJS is being loaded, scheduling callback at\", now());\n",
       "      return null;\n",
       "    }\n",
       "    if (js_urls == null || js_urls.length === 0) {\n",
       "      run_callbacks();\n",
       "      return null;\n",
       "    }\n",
       "    console.debug(\"Bokeh: BokehJS not loaded, scheduling load and callback at\", now());\n",
       "    root._bokeh_is_loading = css_urls.length + js_urls.length;\n",
       "\n",
       "    function on_load() {\n",
       "      root._bokeh_is_loading--;\n",
       "      if (root._bokeh_is_loading === 0) {\n",
       "        console.debug(\"Bokeh: all BokehJS libraries/stylesheets loaded\");\n",
       "        run_callbacks()\n",
       "      }\n",
       "    }\n",
       "\n",
       "    function on_error(url) {\n",
       "      console.error(\"failed to load \" + url);\n",
       "    }\n",
       "\n",
       "    for (let i = 0; i < css_urls.length; i++) {\n",
       "      const url = css_urls[i];\n",
       "      const element = document.createElement(\"link\");\n",
       "      element.onload = on_load;\n",
       "      element.onerror = on_error.bind(null, url);\n",
       "      element.rel = \"stylesheet\";\n",
       "      element.type = \"text/css\";\n",
       "      element.href = url;\n",
       "      console.debug(\"Bokeh: injecting link tag for BokehJS stylesheet: \", url);\n",
       "      document.body.appendChild(element);\n",
       "    }\n",
       "\n",
       "    const hashes = {\"https://cdn.bokeh.org/bokeh/release/bokeh-2.3.2.min.js\": \"XypntL49z55iwGVUW4qsEu83zKL3XEcz0MjuGOQ9SlaaQ68X/g+k1FcioZi7oQAc\", \"https://cdn.bokeh.org/bokeh/release/bokeh-tables-2.3.2.min.js\": \"bEsM86IHGDTLCS0Zod8a8WM6Y4+lafAL/eSiyQcuPzinmWNgNO2/olUF0Z2Dkn5i\", \"https://cdn.bokeh.org/bokeh/release/bokeh-widgets-2.3.2.min.js\": \"TX0gSQTdXTTeScqxj6PVQxTiRW8DOoGVwinyi1D3kxv7wuxQ02XkOxv0xwiypcAH\"};\n",
       "\n",
       "    for (let i = 0; i < js_urls.length; i++) {\n",
       "      const url = js_urls[i];\n",
       "      const element = document.createElement('script');\n",
       "      element.onload = on_load;\n",
       "      element.onerror = on_error.bind(null, url);\n",
       "      element.async = false;\n",
       "      element.src = url;\n",
       "      if (url in hashes) {\n",
       "        element.crossOrigin = \"anonymous\";\n",
       "        element.integrity = \"sha384-\" + hashes[url];\n",
       "      }\n",
       "      console.debug(\"Bokeh: injecting script tag for BokehJS library: \", url);\n",
       "      document.head.appendChild(element);\n",
       "    }\n",
       "  };\n",
       "\n",
       "  function inject_raw_css(css) {\n",
       "    const element = document.createElement(\"style\");\n",
       "    element.appendChild(document.createTextNode(css));\n",
       "    document.body.appendChild(element);\n",
       "  }\n",
       "\n",
       "  \n",
       "  var js_urls = [\"https://cdn.bokeh.org/bokeh/release/bokeh-2.3.2.min.js\", \"https://cdn.bokeh.org/bokeh/release/bokeh-widgets-2.3.2.min.js\", \"https://cdn.bokeh.org/bokeh/release/bokeh-tables-2.3.2.min.js\"];\n",
       "  var css_urls = [];\n",
       "  \n",
       "\n",
       "  var inline_js = [\n",
       "    function(Bokeh) {\n",
       "      Bokeh.set_log_level(\"info\");\n",
       "    },\n",
       "    function(Bokeh) {\n",
       "    \n",
       "    \n",
       "    }\n",
       "  ];\n",
       "\n",
       "  function run_inline_js() {\n",
       "    \n",
       "    if (root.Bokeh !== undefined || force === true) {\n",
       "      \n",
       "    for (var i = 0; i < inline_js.length; i++) {\n",
       "      inline_js[i].call(root, root.Bokeh);\n",
       "    }\n",
       "    if (force === true) {\n",
       "        display_loaded();\n",
       "      }} else if (Date.now() < root._bokeh_timeout) {\n",
       "      setTimeout(run_inline_js, 100);\n",
       "    } else if (!root._bokeh_failed_load) {\n",
       "      console.log(\"Bokeh: BokehJS failed to load within specified timeout.\");\n",
       "      root._bokeh_failed_load = true;\n",
       "    } else if (force !== true) {\n",
       "      var cell = $(document.getElementById(\"1002\")).parents('.cell').data().cell;\n",
       "      cell.output_area.append_execute_result(NB_LOAD_WARNING)\n",
       "    }\n",
       "\n",
       "  }\n",
       "\n",
       "  if (root._bokeh_is_loading === 0) {\n",
       "    console.debug(\"Bokeh: BokehJS loaded, going straight to plotting\");\n",
       "    run_inline_js();\n",
       "  } else {\n",
       "    load_libs(css_urls, js_urls, function() {\n",
       "      console.debug(\"Bokeh: BokehJS plotting callback run at\", now());\n",
       "      run_inline_js();\n",
       "    });\n",
       "  }\n",
       "}(window));"
      ],
      "application/vnd.bokehjs_load.v0+json": "\n(function(root) {\n  function now() {\n    return new Date();\n  }\n\n  var force = true;\n\n  if (typeof root._bokeh_onload_callbacks === \"undefined\" || force === true) {\n    root._bokeh_onload_callbacks = [];\n    root._bokeh_is_loading = undefined;\n  }\n\n  \n\n  \n  if (typeof (root._bokeh_timeout) === \"undefined\" || force === true) {\n    root._bokeh_timeout = Date.now() + 5000;\n    root._bokeh_failed_load = false;\n  }\n\n  var NB_LOAD_WARNING = {'data': {'text/html':\n     \"<div style='background-color: #fdd'>\\n\"+\n     \"<p>\\n\"+\n     \"BokehJS does not appear to have successfully loaded. If loading BokehJS from CDN, this \\n\"+\n     \"may be due to a slow or bad network connection. Possible fixes:\\n\"+\n     \"</p>\\n\"+\n     \"<ul>\\n\"+\n     \"<li>re-rerun `output_notebook()` to attempt to load from CDN again, or</li>\\n\"+\n     \"<li>use INLINE resources instead, as so:</li>\\n\"+\n     \"</ul>\\n\"+\n     \"<code>\\n\"+\n     \"from bokeh.resources import INLINE\\n\"+\n     \"output_notebook(resources=INLINE)\\n\"+\n     \"</code>\\n\"+\n     \"</div>\"}};\n\n  function display_loaded() {\n    var el = document.getElementById(\"1002\");\n    if (el != null) {\n      el.textContent = \"BokehJS is loading...\";\n    }\n    if (root.Bokeh !== undefined) {\n      if (el != null) {\n        el.textContent = \"BokehJS \" + root.Bokeh.version + \" successfully loaded.\";\n      }\n    } else if (Date.now() < root._bokeh_timeout) {\n      setTimeout(display_loaded, 100)\n    }\n  }\n\n\n  function run_callbacks() {\n    try {\n      root._bokeh_onload_callbacks.forEach(function(callback) {\n        if (callback != null)\n          callback();\n      });\n    } finally {\n      delete root._bokeh_onload_callbacks\n    }\n    console.debug(\"Bokeh: all callbacks have finished\");\n  }\n\n  function load_libs(css_urls, js_urls, callback) {\n    if (css_urls == null) css_urls = [];\n    if (js_urls == null) js_urls = [];\n\n    root._bokeh_onload_callbacks.push(callback);\n    if (root._bokeh_is_loading > 0) {\n      console.debug(\"Bokeh: BokehJS is being loaded, scheduling callback at\", now());\n      return null;\n    }\n    if (js_urls == null || js_urls.length === 0) {\n      run_callbacks();\n      return null;\n    }\n    console.debug(\"Bokeh: BokehJS not loaded, scheduling load and callback at\", now());\n    root._bokeh_is_loading = css_urls.length + js_urls.length;\n\n    function on_load() {\n      root._bokeh_is_loading--;\n      if (root._bokeh_is_loading === 0) {\n        console.debug(\"Bokeh: all BokehJS libraries/stylesheets loaded\");\n        run_callbacks()\n      }\n    }\n\n    function on_error(url) {\n      console.error(\"failed to load \" + url);\n    }\n\n    for (let i = 0; i < css_urls.length; i++) {\n      const url = css_urls[i];\n      const element = document.createElement(\"link\");\n      element.onload = on_load;\n      element.onerror = on_error.bind(null, url);\n      element.rel = \"stylesheet\";\n      element.type = \"text/css\";\n      element.href = url;\n      console.debug(\"Bokeh: injecting link tag for BokehJS stylesheet: \", url);\n      document.body.appendChild(element);\n    }\n\n    const hashes = {\"https://cdn.bokeh.org/bokeh/release/bokeh-2.3.2.min.js\": \"XypntL49z55iwGVUW4qsEu83zKL3XEcz0MjuGOQ9SlaaQ68X/g+k1FcioZi7oQAc\", \"https://cdn.bokeh.org/bokeh/release/bokeh-tables-2.3.2.min.js\": \"bEsM86IHGDTLCS0Zod8a8WM6Y4+lafAL/eSiyQcuPzinmWNgNO2/olUF0Z2Dkn5i\", \"https://cdn.bokeh.org/bokeh/release/bokeh-widgets-2.3.2.min.js\": \"TX0gSQTdXTTeScqxj6PVQxTiRW8DOoGVwinyi1D3kxv7wuxQ02XkOxv0xwiypcAH\"};\n\n    for (let i = 0; i < js_urls.length; i++) {\n      const url = js_urls[i];\n      const element = document.createElement('script');\n      element.onload = on_load;\n      element.onerror = on_error.bind(null, url);\n      element.async = false;\n      element.src = url;\n      if (url in hashes) {\n        element.crossOrigin = \"anonymous\";\n        element.integrity = \"sha384-\" + hashes[url];\n      }\n      console.debug(\"Bokeh: injecting script tag for BokehJS library: \", url);\n      document.head.appendChild(element);\n    }\n  };\n\n  function inject_raw_css(css) {\n    const element = document.createElement(\"style\");\n    element.appendChild(document.createTextNode(css));\n    document.body.appendChild(element);\n  }\n\n  \n  var js_urls = [\"https://cdn.bokeh.org/bokeh/release/bokeh-2.3.2.min.js\", \"https://cdn.bokeh.org/bokeh/release/bokeh-widgets-2.3.2.min.js\", \"https://cdn.bokeh.org/bokeh/release/bokeh-tables-2.3.2.min.js\"];\n  var css_urls = [];\n  \n\n  var inline_js = [\n    function(Bokeh) {\n      Bokeh.set_log_level(\"info\");\n    },\n    function(Bokeh) {\n    \n    \n    }\n  ];\n\n  function run_inline_js() {\n    \n    if (root.Bokeh !== undefined || force === true) {\n      \n    for (var i = 0; i < inline_js.length; i++) {\n      inline_js[i].call(root, root.Bokeh);\n    }\n    if (force === true) {\n        display_loaded();\n      }} else if (Date.now() < root._bokeh_timeout) {\n      setTimeout(run_inline_js, 100);\n    } else if (!root._bokeh_failed_load) {\n      console.log(\"Bokeh: BokehJS failed to load within specified timeout.\");\n      root._bokeh_failed_load = true;\n    } else if (force !== true) {\n      var cell = $(document.getElementById(\"1002\")).parents('.cell').data().cell;\n      cell.output_area.append_execute_result(NB_LOAD_WARNING)\n    }\n\n  }\n\n  if (root._bokeh_is_loading === 0) {\n    console.debug(\"Bokeh: BokehJS loaded, going straight to plotting\");\n    run_inline_js();\n  } else {\n    load_libs(css_urls, js_urls, function() {\n      console.debug(\"Bokeh: BokehJS plotting callback run at\", now());\n      run_inline_js();\n    });\n  }\n}(window));"
     },
     "metadata": {},
     "output_type": "display_data"
    }
   ],
   "source": [
    "output_notebook()"
   ]
  },
  {
   "cell_type": "code",
   "execution_count": 27,
   "id": "29918140",
   "metadata": {},
   "outputs": [
    {
     "name": "stderr",
     "output_type": "stream",
     "text": [
      "BokehDeprecationWarning: 'legend' keyword is deprecated, use explicit 'legend_label', 'legend_field', or 'legend_group' keywords instead\n"
     ]
    },
    {
     "data": {
      "text/html": [
       "\n",
       "\n",
       "\n",
       "\n",
       "\n",
       "\n",
       "  <div class=\"bk-root\" id=\"b7f70e56-1a9a-469e-8ad7-21323586a777\" data-root-id=\"2006\"></div>\n"
      ]
     },
     "metadata": {},
     "output_type": "display_data"
    },
    {
     "data": {
      "application/javascript": [
       "(function(root) {\n",
       "  function embed_document(root) {\n",
       "    \n",
       "  var docs_json = {\"0838d305-f4db-4ddf-a086-3c4d65686fe5\":{\"defs\":[],\"roots\":{\"references\":[{\"attributes\":{\"below\":[{\"id\":\"2017\"}],\"center\":[{\"id\":\"2020\"},{\"id\":\"2024\"},{\"id\":\"2066\"}],\"left\":[{\"id\":\"2021\"}],\"renderers\":[{\"id\":\"2042\"}],\"title\":{\"id\":\"2007\"},\"toolbar\":{\"id\":\"2032\"},\"width\":800,\"x_range\":{\"id\":\"2009\"},\"x_scale\":{\"id\":\"2013\"},\"y_range\":{\"id\":\"2011\"},\"y_scale\":{\"id\":\"2015\"}},\"id\":\"2006\",\"subtype\":\"Figure\",\"type\":\"Plot\"},{\"attributes\":{},\"id\":\"2013\",\"type\":\"LinearScale\"},{\"attributes\":{\"items\":[{\"id\":\"2067\"}],\"location\":\"top_left\"},\"id\":\"2066\",\"type\":\"Legend\"},{\"attributes\":{},\"id\":\"2052\",\"type\":\"UnionRenderers\"},{\"attributes\":{},\"id\":\"2053\",\"type\":\"Selection\"},{\"attributes\":{},\"id\":\"2045\",\"type\":\"BasicTickFormatter\"},{\"attributes\":{\"label\":{\"value\":\"Bitcoin\"},\"renderers\":[{\"id\":\"2042\"}]},\"id\":\"2067\",\"type\":\"LegendItem\"},{\"attributes\":{\"axis_label\":\"Date\",\"formatter\":{\"id\":\"2048\"},\"major_label_policy\":{\"id\":\"2049\"},\"ticker\":{\"id\":\"2018\"}},\"id\":\"2017\",\"type\":\"DatetimeAxis\"},{\"attributes\":{},\"id\":\"2022\",\"type\":\"BasicTicker\"},{\"attributes\":{\"source\":{\"id\":\"2039\"}},\"id\":\"2043\",\"type\":\"CDSView\"},{\"attributes\":{},\"id\":\"2046\",\"type\":\"AllLabels\"},{\"attributes\":{\"data\":{\"x\":{\"__ndarray__\":\"AAAQI+yqd0IAAPiR76p3QgAA4ADzqndCAADIb/aqd0IAALDe+ap3QgAAmE39qndCAACAvACrd0IAAGgrBKt3QgAAUJoHq3dCAAA4CQurd0IAACB4Dqt3QgAACOcRq3dCAADwVRWrd0IAANjEGKt3QgAAwDMcq3dCAACooh+rd0IAAJARI6t3QgAAeIAmq3dCAABg7ymrd0IAAEheLat3QgAAMM0wq3dCAAAYPDSrd0IAAACrN6t3QgAA6Bk7q3dCAADQiD6rd0IAALj3Qat3QgAAoGZFq3dCAACI1Uird0IAAHBETKt3QgAAWLNPq3dCAABAIlOrd0IAACiRVqt3QgAAEABaq3dCAAD4bl2rd0IAAODdYKt3QgAAyExkq3dCAACwu2erd0IAAJgqa6t3QgAAgJluq3dCAABoCHKrd0IAAFB3dat3QgAAOOZ4q3dCAAAgVXyrd0IAAAjEf6t3QgAA8DKDq3dCAADYoYard0IAAMAQiqt3QgAAqH+Nq3dCAACQ7pCrd0IAAHhdlKt3QgAAYMyXq3dCAABIO5urd0IAADCqnqt3QgAAGBmiq3dCAAAAiKWrd0IAAOj2qKt3QgAA0GWsq3dCAAC41K+rd0IAAKBDs6t3QgAAiLK2q3dCAABwIbqrd0IAAFiQvat3QgAAQP/Aq3dCAAAobsSrd0IAABDdx6t3QgAA+EvLq3dCAADgus6rd0IAAMgp0qt3QgAAsJjVq3dCAACYB9mrd0IAAIB23Kt3QgAAaOXfq3dCAABQVOOrd0IAADjD5qt3QgAAIDLqq3dCAAAIoe2rd0IAAPAP8at3QgAA2H70q3dCAADA7ferd0IAAKhc+6t3QgAAkMv+q3dCAAB4OgKsd0IAAGCpBax3QgAASBgJrHdCAAAwhwysd0IAABj2D6x3QgAAAGUTrHdCAADo0xasd0IAANBCGqx3QgAAuLEdrHdCAACgICGsd0IAAIiPJKx3QgAAcP4nrHdCAABYbSusd0IAAEDcLqx3QgAAKEsyrHdCAAAQujWsd0IAAPgoOax3QgAA4Jc8rHdCAADIBkCsd0IAALB1Q6x3QgAAmORGrHdCAACAU0qsd0IAAGjCTax3QgAAUDFRrHdCAAA4oFSsd0IAACAPWKx3QgAACH5brHdCAADw7F6sd0IAANhbYqx3QgAAwMplrHdCAACoOWmsd0IAAJCobKx3QgAAeBdwrHdCAABghnOsd0IAAEj1dqx3QgAAMGR6rHdCAAAY032sd0IAAABCgax3QgAA6LCErHdCAADQH4isd0IAALiOi6x3QgAAoP2OrHdCAACIbJKsd0IAAHDblax3QgAAWEqZrHdCAABAuZysd0IAACgooKx3QgAAEJejrHdCAAD4Baesd0IAAOB0qqx3QgAAyOOtrHdCAACwUrGsd0IAAJjBtKx3QgAAgDC4rHdCAABon7usd0IAAFAOv6x3QgAAOH3CrHdCAAAg7MWsd0IAAAhbyax3QgAA8MnMrHdCAADYONCsd0IAAMCn06x3QgAAqBbXrHdCAACQhdqsd0IAAHj03ax3QgAAYGPhrHdCAABI0uSsd0IAADBB6Kx3QgAAGLDrrHdCAAAAH++sd0IAAOiN8qx3QgAA0Pz1rHdCAAC4a/msd0IAAKDa/Kx3QgAAiEkArXdCAABwuAOtd0IAAFgnB613QgAAQJYKrXdCAAAoBQ6td0IAABB0Ea13QgAA+OIUrXdCAADgURitd0IAAMjAG613QgAAsC8frXdCAACYniKtd0IAAIANJq13QgAAaHwprXdCAABQ6yytd0IAADhaMK13QgAAIMkzrXdCAAAIODetd0IAAPCmOq13Qg==\",\"dtype\":\"float64\",\"order\":\"little\",\"shape\":[173]},\"y\":{\"__ndarray__\":\"exSuR8Gt3kCF61G4PpfeQJqZmZkJXN5Aj8L1KGz13kC4HoXr8QbfQMP1KFxPH99AKVyPwgVi30DsUbgeFU/fQArXo3DNUN9AXI/C9fg830BxPQrXkzDfQClcj8LFGN9AH4XrUdj+3kAAAAAAkNjeQBSuR+EKp95APQrXo7Dk3kBSuB6FS6veQOF6FK7nnt5AuB6F62GW3kBcj8L1GKzeQPYoXI+Cwd5AXI/C9Sja3kD2KFyPssjeQNejcD3K8t5ACtejcP3i3kCamZmZOZDeQHE9CtcDqt5ASOF6FL7E3kA9CtejMOTeQD0K16MQ6N5Aj8L1KLwG30BxPQrXY/LeQOxRuB4lAd9AUrgehUsD30CF61G4LhzfQIXrUbje/t5A9ihcj2L63kCF61G4XufeQFK4HoVryt5ApHA9Cqc/30BI4XoUjnnfQPYoXI9ydd9A9ihcj2Jq30Bcj8L1SFjfQFyPwvUIUt9AAAAAAHAc30DhehSuF/veQOxRuB4VCN9AuB6F63ED30ApXI/CZfzeQOF6FK7nDt9AUrgehfsB30AzMzMzQ/reQNejcD2Kmt5ArkfhemSl3kDD9Shc377eQMP1KFyv4d5ACtejcD3j3kCkcD0Kh+neQI/C9SgM5d5ASOF6FA4U30C4HoXrYdTeQJqZmZkpCN9ASOF6FD7b3kCuR+F6pOLeQOxRuB7VyN5ACtejcB3O3kAK16NwvQLfQNejcD0KDN9AMzMzM0MP30B7FK5Hsd/eQB+F61Govt5AAAAAACCq3kBcj8L1mHfeQIXrUbiuit5AuB6F6/H43UAAAAAAAOLdQHE9CtdTGd5AmpmZmRn13UBmZmZmRvjdQDMzMzMzA95ASOF6FB7v3UBmZmZmNgLeQMP1KFwfEN5A9ihcj/IB3kAK16NwzSPeQPYoXI9SG95AH4XrUWgW3kCuR+F6pOndQDMzMzODet1A9ihcj4Lo3ECuR+F65PTcQGZmZmbGB91AH4XrUagD3UBI4XoULiLdQArXo3AN8dxAAAAAAOC73EBxPQrXw/3cQOxRuB5VAN1AUrgehfsC3UCPwvUo/NjcQNejcD26CN1A7FG4HuUx3UCF61G4jvjcQD0K16Ow9txAcT0K1/MV3UDhehSuhxfdQClcj8KFKN1A16NwPYoC3UDhehSuZ97cQOxRuB6lFt1ApHA9Clfo3EB7FK5HsQzdQKRwPQpnHt1AZmZmZsYj3UCPwvUorPXdQNejcD1q/t1AcT0K1xMn3kBxPQrXUxreQI/C9SisHt5AH4XrUbiZ3kB7FK5HEafeQHsUrkfB0d5ASOF6FE633kC4HoXr4cHeQJqZmZmJFN9ApHA9Ckcv30CPwvUobFjfQNejcD1qbt9AKVyPwnUR30BxPQrXQ+jeQI/C9Sg8Et9AexSuR8Ea30AzMzMzo1nfQM3MzMycYt9A16NwPbpT30DsUbge9TrfQHE9CtfzIN9AUrgehUsx30CuR+F61FDfQNejcD1qKd9A9ihcjwJM30AzMzMzE2TfQFyPwvUoYN9AAAAAAGAg30D2KFyPMhTfQKRwPQoHLt9AMzMzM1N130BSuB6FW1PfQArXo3DNht9AFK5H4frD30D2KFyPspzfQGZmZmaGqt9ASOF6FO6I30AzMzMzw6LfQJqZmZkpfd9ASOF6FM5g30AK16NwvW/fQB+F61E4i99AexSuR4Ge30DsUbgetf7fQM3MzMxs3d9AAAAAAADW30BSuB6FG+7fQHsUrkch4t9AuB6F64HV30D2KFyP4rvfQI/C9Shcj99ACtejcP2X30AAAAAA0JXfQB+F61EYj99AUrgehYuu30AK16NwrbLfQA==\",\"dtype\":\"float64\",\"order\":\"little\",\"shape\":[173]}},\"selected\":{\"id\":\"2053\"},\"selection_policy\":{\"id\":\"2052\"}},\"id\":\"2039\",\"type\":\"ColumnDataSource\"},{\"attributes\":{},\"id\":\"2009\",\"type\":\"DataRange1d\"},{\"attributes\":{\"line_alpha\":0.1,\"line_color\":\"#f2a900\",\"x\":{\"field\":\"x\"},\"y\":{\"field\":\"y\"}},\"id\":\"2041\",\"type\":\"Line\"},{\"attributes\":{\"bottom_units\":\"screen\",\"fill_alpha\":0.5,\"fill_color\":\"lightgrey\",\"left_units\":\"screen\",\"level\":\"overlay\",\"line_alpha\":1.0,\"line_color\":\"black\",\"line_dash\":[4,4],\"line_width\":2,\"right_units\":\"screen\",\"syncable\":false,\"top_units\":\"screen\"},\"id\":\"2031\",\"type\":\"BoxAnnotation\"},{\"attributes\":{\"axis_label\":\"Price\",\"formatter\":{\"id\":\"2045\"},\"major_label_policy\":{\"id\":\"2046\"},\"ticker\":{\"id\":\"2022\"}},\"id\":\"2021\",\"type\":\"LinearAxis\"},{\"attributes\":{\"mantissas\":[1,2,5],\"max_interval\":500.0,\"num_minor_ticks\":0},\"id\":\"2054\",\"type\":\"AdaptiveTicker\"},{\"attributes\":{\"base\":60,\"mantissas\":[1,2,5,10,15,20,30],\"max_interval\":1800000.0,\"min_interval\":1000.0,\"num_minor_ticks\":0},\"id\":\"2055\",\"type\":\"AdaptiveTicker\"},{\"attributes\":{\"axis\":{\"id\":\"2021\"},\"dimension\":1,\"grid_line_alpha\":0.3,\"ticker\":null},\"id\":\"2024\",\"type\":\"Grid\"},{\"attributes\":{\"days\":[1,2,3,4,5,6,7,8,9,10,11,12,13,14,15,16,17,18,19,20,21,22,23,24,25,26,27,28,29,30,31]},\"id\":\"2057\",\"type\":\"DaysTicker\"},{\"attributes\":{\"line_color\":\"#f2a900\",\"x\":{\"field\":\"x\"},\"y\":{\"field\":\"y\"}},\"id\":\"2040\",\"type\":\"Line\"},{\"attributes\":{\"base\":24,\"mantissas\":[1,2,4,6,8,12],\"max_interval\":43200000.0,\"min_interval\":3600000.0,\"num_minor_ticks\":0},\"id\":\"2056\",\"type\":\"AdaptiveTicker\"},{\"attributes\":{\"text\":\"Crypto Currency Prices\"},\"id\":\"2007\",\"type\":\"Title\"},{\"attributes\":{},\"id\":\"2048\",\"type\":\"DatetimeTickFormatter\"},{\"attributes\":{},\"id\":\"2025\",\"type\":\"PanTool\"},{\"attributes\":{\"months\":[0,1,2,3,4,5,6,7,8,9,10,11]},\"id\":\"2061\",\"type\":\"MonthsTicker\"},{\"attributes\":{\"data_source\":{\"id\":\"2039\"},\"glyph\":{\"id\":\"2040\"},\"hover_glyph\":null,\"muted_glyph\":null,\"nonselection_glyph\":{\"id\":\"2041\"},\"view\":{\"id\":\"2043\"}},\"id\":\"2042\",\"type\":\"GlyphRenderer\"},{\"attributes\":{},\"id\":\"2030\",\"type\":\"HelpTool\"},{\"attributes\":{\"months\":[0,2,4,6,8,10]},\"id\":\"2062\",\"type\":\"MonthsTicker\"},{\"attributes\":{\"days\":[1,4,7,10,13,16,19,22,25,28]},\"id\":\"2058\",\"type\":\"DaysTicker\"},{\"attributes\":{},\"id\":\"2049\",\"type\":\"AllLabels\"},{\"attributes\":{\"days\":[1,15]},\"id\":\"2060\",\"type\":\"DaysTicker\"},{\"attributes\":{\"num_minor_ticks\":5,\"tickers\":[{\"id\":\"2054\"},{\"id\":\"2055\"},{\"id\":\"2056\"},{\"id\":\"2057\"},{\"id\":\"2058\"},{\"id\":\"2059\"},{\"id\":\"2060\"},{\"id\":\"2061\"},{\"id\":\"2062\"},{\"id\":\"2063\"},{\"id\":\"2064\"},{\"id\":\"2065\"}]},\"id\":\"2018\",\"type\":\"DatetimeTicker\"},{\"attributes\":{\"months\":[0,6]},\"id\":\"2064\",\"type\":\"MonthsTicker\"},{\"attributes\":{},\"id\":\"2028\",\"type\":\"SaveTool\"},{\"attributes\":{},\"id\":\"2011\",\"type\":\"DataRange1d\"},{\"attributes\":{\"days\":[1,8,15,22]},\"id\":\"2059\",\"type\":\"DaysTicker\"},{\"attributes\":{},\"id\":\"2065\",\"type\":\"YearsTicker\"},{\"attributes\":{\"axis\":{\"id\":\"2017\"},\"grid_line_alpha\":0.3,\"ticker\":null},\"id\":\"2020\",\"type\":\"Grid\"},{\"attributes\":{\"overlay\":{\"id\":\"2031\"}},\"id\":\"2027\",\"type\":\"BoxZoomTool\"},{\"attributes\":{\"months\":[0,4,8]},\"id\":\"2063\",\"type\":\"MonthsTicker\"},{\"attributes\":{\"active_multi\":null,\"tools\":[{\"id\":\"2025\"},{\"id\":\"2026\"},{\"id\":\"2027\"},{\"id\":\"2028\"},{\"id\":\"2029\"},{\"id\":\"2030\"}]},\"id\":\"2032\",\"type\":\"Toolbar\"},{\"attributes\":{},\"id\":\"2015\",\"type\":\"LinearScale\"},{\"attributes\":{},\"id\":\"2026\",\"type\":\"WheelZoomTool\"},{\"attributes\":{},\"id\":\"2029\",\"type\":\"ResetTool\"}],\"root_ids\":[\"2006\"]},\"title\":\"Bokeh Application\",\"version\":\"2.3.2\"}};\n",
       "  var render_items = [{\"docid\":\"0838d305-f4db-4ddf-a086-3c4d65686fe5\",\"root_ids\":[\"2006\"],\"roots\":{\"2006\":\"b7f70e56-1a9a-469e-8ad7-21323586a777\"}}];\n",
       "  root.Bokeh.embed.embed_items_notebook(docs_json, render_items);\n",
       "\n",
       "  }\n",
       "  if (root.Bokeh !== undefined) {\n",
       "    embed_document(root);\n",
       "  } else {\n",
       "    var attempts = 0;\n",
       "    var timer = setInterval(function(root) {\n",
       "      if (root.Bokeh !== undefined) {\n",
       "        clearInterval(timer);\n",
       "        embed_document(root);\n",
       "      } else {\n",
       "        attempts++;\n",
       "        if (attempts > 100) {\n",
       "          clearInterval(timer);\n",
       "          console.log(\"Bokeh: ERROR: Unable to run BokehJS code because BokehJS library is missing\");\n",
       "        }\n",
       "      }\n",
       "    }, 10, root)\n",
       "  }\n",
       "})(window);"
      ],
      "application/vnd.bokehjs_exec.v0+json": ""
     },
     "metadata": {
      "application/vnd.bokehjs_exec.v0+json": {
       "id": "2006"
      }
     },
     "output_type": "display_data"
    }
   ],
   "source": [
    "p1 = figure(x_axis_type='datetime', title='Crypto Currency Prices', width=800)\n",
    "p1.grid.grid_line_alpha=0.3\n",
    "p1.xaxis.axis_label='Date'\n",
    "p1.yaxis.axis_label='Price'\n",
    "\n",
    "p1.line(btc.index, btc['ClosePrice'], color='#f2a900', legend='Bitcoin')\n",
    "p1.legend.location='top_left'\n",
    "\n",
    "show(p1)\n"
   ]
  },
  {
   "cell_type": "code",
   "execution_count": 28,
   "id": "43adac2d",
   "metadata": {},
   "outputs": [],
   "source": [
    "writer = pd.ExcelWriter('cryptos.xlsx')"
   ]
  },
  {
   "cell_type": "markdown",
   "id": "37e6ebb0",
   "metadata": {},
   "source": [
    "#### Make an excel file/cvs file using crypto data"
   ]
  },
  {
   "cell_type": "code",
   "execution_count": 29,
   "id": "0f6c9fac",
   "metadata": {},
   "outputs": [],
   "source": [
    "btc.to_excel(writer, sheet_name='bitcoin')"
   ]
  },
  {
   "cell_type": "code",
   "execution_count": 30,
   "id": "6cee60e5",
   "metadata": {},
   "outputs": [],
   "source": [
    "eth.to_excel(writer, sheet_name='Ether')"
   ]
  },
  {
   "cell_type": "code",
   "execution_count": 32,
   "id": "1fbad555",
   "metadata": {},
   "outputs": [
    {
     "name": "stderr",
     "output_type": "stream",
     "text": [
      "C:\\Users\\zurie\\anaconda3\\lib\\site-packages\\xlsxwriter\\workbook.py:336: UserWarning: Calling close() on already closed file.\n",
      "  warn(\"Calling close() on already closed file.\")\n"
     ]
    }
   ],
   "source": [
    "writer.save()"
   ]
  },
  {
   "cell_type": "code",
   "execution_count": null,
   "id": "38ea92be",
   "metadata": {},
   "outputs": [],
   "source": []
  }
 ],
 "metadata": {
  "kernelspec": {
   "display_name": "Python 3",
   "language": "python",
   "name": "python3"
  },
  "language_info": {
   "codemirror_mode": {
    "name": "ipython",
    "version": 3
   },
   "file_extension": ".py",
   "mimetype": "text/x-python",
   "name": "python",
   "nbconvert_exporter": "python",
   "pygments_lexer": "ipython3",
   "version": "3.8.8"
  }
 },
 "nbformat": 4,
 "nbformat_minor": 5
}
